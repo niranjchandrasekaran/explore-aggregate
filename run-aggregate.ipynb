{
 "cells": [
  {
   "cell_type": "code",
   "execution_count": 1,
   "metadata": {
    "collapsed": true
   },
   "outputs": [],
   "source": [
    "from pycytominer.cyto_utils.cells import SingleCells\n",
    "import pathlib\n",
    "import os"
   ]
  },
  {
   "cell_type": "code",
   "execution_count": 2,
   "outputs": [],
   "source": [
    "plate = '218360'\n",
    "batch = 'data'"
   ],
   "metadata": {
    "collapsed": false,
    "pycharm": {
     "name": "#%%\n"
    }
   }
  },
  {
   "cell_type": "code",
   "execution_count": 3,
   "outputs": [],
   "source": [
    "sqlite_file = pathlib.PurePath(os.path.abspath(os.path.join('../../backend',batch,f'{plate}.sqlite')))\n",
    "ap = SingleCells(file_or_conn=f\"sqlite:////{sqlite_file}\",\n",
    "                 aggregation_operation=\"median\",\n",
    "                 fields_of_view=[5,6,7],\n",
    "                 object_feature='Metadata_ObjectNumber')\n",
    "\n",
    "aggregated_profiles = ap.aggregate_profiles()"
   ],
   "metadata": {
    "collapsed": false,
    "pycharm": {
     "name": "#%%\n"
    }
   }
  },
  {
   "cell_type": "code",
   "execution_count": 4,
   "outputs": [
    {
     "data": {
      "text/plain": "   Metadata_Plate Metadata_Well  Metadata_Fields_Count  Metadata_Object_Count  \\\n0          218360           B02                      3                    300   \n1          218360           B03                      3                    110   \n2          218360           B04                      3                    115   \n3          218360           B05                      3                     35   \n4          218360           B06                      3                    165   \n\n   Cells_AreaShape_Area  Cells_AreaShape_Center_X  Cells_AreaShape_Center_Y  \\\n0                3153.5                    1192.0                     967.5   \n1                3864.0                    1141.0                    1333.5   \n2                3272.0                     894.0                    1164.0   \n3                5202.0                     504.0                    1432.0   \n4                3152.0                     967.0                    1027.0   \n\n   Cells_AreaShape_Center_Z  Cells_AreaShape_Compactness  \\\n0                       1.0                     1.172412   \n1                       1.0                     1.152309   \n2                       1.0                     1.142195   \n3                       1.0                     1.198977   \n4                       1.0                     1.158599   \n\n   Cells_AreaShape_Eccentricity  ...  Nuclei_Texture_Variance_RNA_10_02  \\\n0                      0.755813  ...                         156.684098   \n1                      0.762603  ...                         160.772921   \n2                      0.720046  ...                         170.264126   \n3                      0.755627  ...                          85.344788   \n4                      0.755386  ...                          87.183677   \n\n   Nuclei_Texture_Variance_RNA_10_03  Nuclei_Texture_Variance_RNA_20_00  \\\n0                         166.097992                         142.280987   \n1                         174.163557                         182.228550   \n2                         172.596761                         157.608356   \n3                          87.392381                          88.329003   \n4                          92.275673                         103.469782   \n\n   Nuclei_Texture_Variance_RNA_20_01  Nuclei_Texture_Variance_RNA_20_02  \\\n0                         174.741990                         154.523673   \n1                         215.873248                         174.138069   \n2                         164.655994                         168.452022   \n3                         100.991900                          95.728104   \n4                         136.486993                         107.782212   \n\n   Nuclei_Texture_Variance_RNA_20_03  Nuclei_Texture_Variance_RNA_5_00  \\\n0                         160.510712                        161.108914   \n1                         185.264111                        167.692804   \n2                         168.756592                        162.302864   \n3                         100.404670                         89.676270   \n4                         113.246019                         85.816082   \n\n   Nuclei_Texture_Variance_RNA_5_01  Nuclei_Texture_Variance_RNA_5_02  \\\n0                        156.025527                        158.424136   \n1                        158.038459                        163.654241   \n2                        168.118919                        170.719480   \n3                         86.683234                         85.761410   \n4                         88.734140                         88.968896   \n\n   Nuclei_Texture_Variance_RNA_5_03  \n0                        158.288460  \n1                        165.168472  \n2                        168.373609  \n3                         87.621951  \n4                         87.948784  \n\n[5 rows x 3530 columns]",
      "text/html": "<div>\n<style scoped>\n    .dataframe tbody tr th:only-of-type {\n        vertical-align: middle;\n    }\n\n    .dataframe tbody tr th {\n        vertical-align: top;\n    }\n\n    .dataframe thead th {\n        text-align: right;\n    }\n</style>\n<table border=\"1\" class=\"dataframe\">\n  <thead>\n    <tr style=\"text-align: right;\">\n      <th></th>\n      <th>Metadata_Plate</th>\n      <th>Metadata_Well</th>\n      <th>Metadata_Fields_Count</th>\n      <th>Metadata_Object_Count</th>\n      <th>Cells_AreaShape_Area</th>\n      <th>Cells_AreaShape_Center_X</th>\n      <th>Cells_AreaShape_Center_Y</th>\n      <th>Cells_AreaShape_Center_Z</th>\n      <th>Cells_AreaShape_Compactness</th>\n      <th>Cells_AreaShape_Eccentricity</th>\n      <th>...</th>\n      <th>Nuclei_Texture_Variance_RNA_10_02</th>\n      <th>Nuclei_Texture_Variance_RNA_10_03</th>\n      <th>Nuclei_Texture_Variance_RNA_20_00</th>\n      <th>Nuclei_Texture_Variance_RNA_20_01</th>\n      <th>Nuclei_Texture_Variance_RNA_20_02</th>\n      <th>Nuclei_Texture_Variance_RNA_20_03</th>\n      <th>Nuclei_Texture_Variance_RNA_5_00</th>\n      <th>Nuclei_Texture_Variance_RNA_5_01</th>\n      <th>Nuclei_Texture_Variance_RNA_5_02</th>\n      <th>Nuclei_Texture_Variance_RNA_5_03</th>\n    </tr>\n  </thead>\n  <tbody>\n    <tr>\n      <th>0</th>\n      <td>218360</td>\n      <td>B02</td>\n      <td>3</td>\n      <td>300</td>\n      <td>3153.5</td>\n      <td>1192.0</td>\n      <td>967.5</td>\n      <td>1.0</td>\n      <td>1.172412</td>\n      <td>0.755813</td>\n      <td>...</td>\n      <td>156.684098</td>\n      <td>166.097992</td>\n      <td>142.280987</td>\n      <td>174.741990</td>\n      <td>154.523673</td>\n      <td>160.510712</td>\n      <td>161.108914</td>\n      <td>156.025527</td>\n      <td>158.424136</td>\n      <td>158.288460</td>\n    </tr>\n    <tr>\n      <th>1</th>\n      <td>218360</td>\n      <td>B03</td>\n      <td>3</td>\n      <td>110</td>\n      <td>3864.0</td>\n      <td>1141.0</td>\n      <td>1333.5</td>\n      <td>1.0</td>\n      <td>1.152309</td>\n      <td>0.762603</td>\n      <td>...</td>\n      <td>160.772921</td>\n      <td>174.163557</td>\n      <td>182.228550</td>\n      <td>215.873248</td>\n      <td>174.138069</td>\n      <td>185.264111</td>\n      <td>167.692804</td>\n      <td>158.038459</td>\n      <td>163.654241</td>\n      <td>165.168472</td>\n    </tr>\n    <tr>\n      <th>2</th>\n      <td>218360</td>\n      <td>B04</td>\n      <td>3</td>\n      <td>115</td>\n      <td>3272.0</td>\n      <td>894.0</td>\n      <td>1164.0</td>\n      <td>1.0</td>\n      <td>1.142195</td>\n      <td>0.720046</td>\n      <td>...</td>\n      <td>170.264126</td>\n      <td>172.596761</td>\n      <td>157.608356</td>\n      <td>164.655994</td>\n      <td>168.452022</td>\n      <td>168.756592</td>\n      <td>162.302864</td>\n      <td>168.118919</td>\n      <td>170.719480</td>\n      <td>168.373609</td>\n    </tr>\n    <tr>\n      <th>3</th>\n      <td>218360</td>\n      <td>B05</td>\n      <td>3</td>\n      <td>35</td>\n      <td>5202.0</td>\n      <td>504.0</td>\n      <td>1432.0</td>\n      <td>1.0</td>\n      <td>1.198977</td>\n      <td>0.755627</td>\n      <td>...</td>\n      <td>85.344788</td>\n      <td>87.392381</td>\n      <td>88.329003</td>\n      <td>100.991900</td>\n      <td>95.728104</td>\n      <td>100.404670</td>\n      <td>89.676270</td>\n      <td>86.683234</td>\n      <td>85.761410</td>\n      <td>87.621951</td>\n    </tr>\n    <tr>\n      <th>4</th>\n      <td>218360</td>\n      <td>B06</td>\n      <td>3</td>\n      <td>165</td>\n      <td>3152.0</td>\n      <td>967.0</td>\n      <td>1027.0</td>\n      <td>1.0</td>\n      <td>1.158599</td>\n      <td>0.755386</td>\n      <td>...</td>\n      <td>87.183677</td>\n      <td>92.275673</td>\n      <td>103.469782</td>\n      <td>136.486993</td>\n      <td>107.782212</td>\n      <td>113.246019</td>\n      <td>85.816082</td>\n      <td>88.734140</td>\n      <td>88.968896</td>\n      <td>87.948784</td>\n    </tr>\n  </tbody>\n</table>\n<p>5 rows × 3530 columns</p>\n</div>"
     },
     "execution_count": 4,
     "metadata": {},
     "output_type": "execute_result"
    }
   ],
   "source": [
    "aggregated_profiles.head()"
   ],
   "metadata": {
    "collapsed": false,
    "pycharm": {
     "name": "#%%\n"
    }
   }
  },
  {
   "cell_type": "code",
   "execution_count": 5,
   "outputs": [],
   "source": [
    "ap_all = SingleCells(file_or_conn=f\"sqlite:////{sqlite_file}\",\n",
    "                     aggregation_operation=\"median\",\n",
    "                     object_feature='Metadata_ObjectNumber')\n",
    "\n",
    "aggregated_profiles_all = ap_all.aggregate_profiles()"
   ],
   "metadata": {
    "collapsed": false,
    "pycharm": {
     "name": "#%%\n"
    }
   }
  },
  {
   "cell_type": "code",
   "execution_count": 6,
   "outputs": [
    {
     "data": {
      "text/plain": "   Metadata_Plate Metadata_Well  Metadata_Fields_Count  Metadata_Object_Count  \\\n0          218360           B02                     16                   1386   \n1          218360           B03                     16                    793   \n2          218360           B04                     16                    456   \n3          218360           B05                     15                    258   \n4          218360           B06                     17                   1094   \n\n   Cells_AreaShape_Area  Cells_AreaShape_Center_X  Cells_AreaShape_Center_Y  \\\n0                3103.0                    1185.5                    1134.5   \n1                3365.0                    1067.0                    1137.0   \n2                3360.5                    1141.0                    1166.5   \n3                4177.0                     965.0                     993.0   \n4                2983.0                    1127.0                    1171.0   \n\n   Cells_AreaShape_Center_Z  Cells_AreaShape_Compactness  \\\n0                       1.0                     1.176543   \n1                       1.0                     1.148519   \n2                       1.0                     1.152265   \n3                       1.0                     1.165747   \n4                       1.0                     1.170311   \n\n   Cells_AreaShape_Eccentricity  ...  Nuclei_Texture_Variance_RNA_10_02  \\\n0                      0.762628  ...                         134.630929   \n1                      0.738471  ...                         143.936790   \n2                      0.735413  ...                         139.837458   \n3                      0.748149  ...                         111.964045   \n4                      0.760881  ...                          95.982365   \n\n   Nuclei_Texture_Variance_RNA_10_03  Nuclei_Texture_Variance_RNA_20_00  \\\n0                         136.168955                         130.178186   \n1                         150.720200                         155.195390   \n2                         147.532470                         143.564510   \n3                         112.823227                         115.426645   \n4                          98.751886                          95.945806   \n\n   Nuclei_Texture_Variance_RNA_20_01  Nuclei_Texture_Variance_RNA_20_02  \\\n0                         143.230289                         130.452067   \n1                         182.867025                         153.439750   \n2                         152.944447                         143.430507   \n3                         122.807703                         117.224375   \n4                         114.175597                          96.351781   \n\n   Nuclei_Texture_Variance_RNA_20_03  Nuclei_Texture_Variance_RNA_5_00  \\\n0                         139.230146                        135.932245   \n1                         162.839254                        146.040203   \n2                         147.967005                        140.323478   \n3                         117.974582                        109.379265   \n4                          97.938458                        100.092540   \n\n   Nuclei_Texture_Variance_RNA_5_01  Nuclei_Texture_Variance_RNA_5_02  \\\n0                        133.168297                        137.391985   \n1                        143.993466                        147.316124   \n2                        141.193128                        140.788792   \n3                        107.713404                        109.114242   \n4                         97.949178                         98.995327   \n\n   Nuclei_Texture_Variance_RNA_5_03  \n0                        135.095233  \n1                        147.909953  \n2                        140.561236  \n3                        114.182901  \n4                         98.265888  \n\n[5 rows x 3530 columns]",
      "text/html": "<div>\n<style scoped>\n    .dataframe tbody tr th:only-of-type {\n        vertical-align: middle;\n    }\n\n    .dataframe tbody tr th {\n        vertical-align: top;\n    }\n\n    .dataframe thead th {\n        text-align: right;\n    }\n</style>\n<table border=\"1\" class=\"dataframe\">\n  <thead>\n    <tr style=\"text-align: right;\">\n      <th></th>\n      <th>Metadata_Plate</th>\n      <th>Metadata_Well</th>\n      <th>Metadata_Fields_Count</th>\n      <th>Metadata_Object_Count</th>\n      <th>Cells_AreaShape_Area</th>\n      <th>Cells_AreaShape_Center_X</th>\n      <th>Cells_AreaShape_Center_Y</th>\n      <th>Cells_AreaShape_Center_Z</th>\n      <th>Cells_AreaShape_Compactness</th>\n      <th>Cells_AreaShape_Eccentricity</th>\n      <th>...</th>\n      <th>Nuclei_Texture_Variance_RNA_10_02</th>\n      <th>Nuclei_Texture_Variance_RNA_10_03</th>\n      <th>Nuclei_Texture_Variance_RNA_20_00</th>\n      <th>Nuclei_Texture_Variance_RNA_20_01</th>\n      <th>Nuclei_Texture_Variance_RNA_20_02</th>\n      <th>Nuclei_Texture_Variance_RNA_20_03</th>\n      <th>Nuclei_Texture_Variance_RNA_5_00</th>\n      <th>Nuclei_Texture_Variance_RNA_5_01</th>\n      <th>Nuclei_Texture_Variance_RNA_5_02</th>\n      <th>Nuclei_Texture_Variance_RNA_5_03</th>\n    </tr>\n  </thead>\n  <tbody>\n    <tr>\n      <th>0</th>\n      <td>218360</td>\n      <td>B02</td>\n      <td>16</td>\n      <td>1386</td>\n      <td>3103.0</td>\n      <td>1185.5</td>\n      <td>1134.5</td>\n      <td>1.0</td>\n      <td>1.176543</td>\n      <td>0.762628</td>\n      <td>...</td>\n      <td>134.630929</td>\n      <td>136.168955</td>\n      <td>130.178186</td>\n      <td>143.230289</td>\n      <td>130.452067</td>\n      <td>139.230146</td>\n      <td>135.932245</td>\n      <td>133.168297</td>\n      <td>137.391985</td>\n      <td>135.095233</td>\n    </tr>\n    <tr>\n      <th>1</th>\n      <td>218360</td>\n      <td>B03</td>\n      <td>16</td>\n      <td>793</td>\n      <td>3365.0</td>\n      <td>1067.0</td>\n      <td>1137.0</td>\n      <td>1.0</td>\n      <td>1.148519</td>\n      <td>0.738471</td>\n      <td>...</td>\n      <td>143.936790</td>\n      <td>150.720200</td>\n      <td>155.195390</td>\n      <td>182.867025</td>\n      <td>153.439750</td>\n      <td>162.839254</td>\n      <td>146.040203</td>\n      <td>143.993466</td>\n      <td>147.316124</td>\n      <td>147.909953</td>\n    </tr>\n    <tr>\n      <th>2</th>\n      <td>218360</td>\n      <td>B04</td>\n      <td>16</td>\n      <td>456</td>\n      <td>3360.5</td>\n      <td>1141.0</td>\n      <td>1166.5</td>\n      <td>1.0</td>\n      <td>1.152265</td>\n      <td>0.735413</td>\n      <td>...</td>\n      <td>139.837458</td>\n      <td>147.532470</td>\n      <td>143.564510</td>\n      <td>152.944447</td>\n      <td>143.430507</td>\n      <td>147.967005</td>\n      <td>140.323478</td>\n      <td>141.193128</td>\n      <td>140.788792</td>\n      <td>140.561236</td>\n    </tr>\n    <tr>\n      <th>3</th>\n      <td>218360</td>\n      <td>B05</td>\n      <td>15</td>\n      <td>258</td>\n      <td>4177.0</td>\n      <td>965.0</td>\n      <td>993.0</td>\n      <td>1.0</td>\n      <td>1.165747</td>\n      <td>0.748149</td>\n      <td>...</td>\n      <td>111.964045</td>\n      <td>112.823227</td>\n      <td>115.426645</td>\n      <td>122.807703</td>\n      <td>117.224375</td>\n      <td>117.974582</td>\n      <td>109.379265</td>\n      <td>107.713404</td>\n      <td>109.114242</td>\n      <td>114.182901</td>\n    </tr>\n    <tr>\n      <th>4</th>\n      <td>218360</td>\n      <td>B06</td>\n      <td>17</td>\n      <td>1094</td>\n      <td>2983.0</td>\n      <td>1127.0</td>\n      <td>1171.0</td>\n      <td>1.0</td>\n      <td>1.170311</td>\n      <td>0.760881</td>\n      <td>...</td>\n      <td>95.982365</td>\n      <td>98.751886</td>\n      <td>95.945806</td>\n      <td>114.175597</td>\n      <td>96.351781</td>\n      <td>97.938458</td>\n      <td>100.092540</td>\n      <td>97.949178</td>\n      <td>98.995327</td>\n      <td>98.265888</td>\n    </tr>\n  </tbody>\n</table>\n<p>5 rows × 3530 columns</p>\n</div>"
     },
     "execution_count": 6,
     "metadata": {},
     "output_type": "execute_result"
    }
   ],
   "source": [
    "aggregated_profiles_all.head()"
   ],
   "metadata": {
    "collapsed": false,
    "pycharm": {
     "name": "#%%\n"
    }
   }
  }
 ],
 "metadata": {
  "kernelspec": {
   "display_name": "Python 3",
   "language": "python",
   "name": "python3"
  },
  "language_info": {
   "codemirror_mode": {
    "name": "ipython",
    "version": 2
   },
   "file_extension": ".py",
   "mimetype": "text/x-python",
   "name": "python",
   "nbconvert_exporter": "python",
   "pygments_lexer": "ipython2",
   "version": "2.7.6"
  }
 },
 "nbformat": 4,
 "nbformat_minor": 0
}